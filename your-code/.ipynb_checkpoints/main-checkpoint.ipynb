{
 "cells": [
  {
   "cell_type": "markdown",
   "metadata": {},
   "source": [
    "# Before your start:\n",
    "- Read the README.md file\n",
    "- Comment as much as you can and use the resources in the README.md file\n",
    "- Happy learning!"
   ]
  },
  {
   "cell_type": "markdown",
   "metadata": {},
   "source": [
    "# Challenge 1 - Working with JSON files\n",
    "\n",
    "Import the pandas library"
   ]
  },
  {
   "cell_type": "code",
   "execution_count": 3,
   "metadata": {},
   "outputs": [],
   "source": [
    "# Your import here:\n",
    "import pandas as pd\n",
    "\n",
    ""
   ]
  },
  {
   "cell_type": "markdown",
   "metadata": {},
   "source": [
    "####  After importing pandas, let's find a dataset. In this lesson we will be working with a NASA dataset.\n",
    "\n",
    "Run the code in the cell below to load the dataset containing information about asteroids that have landed on earth. This piece of code helps us open the URL for the dataset and deocde the data using UTF-8."
   ]
  },
  {
   "cell_type": "code",
   "execution_count": 5,
   "metadata": {
    "tags": [
     "outputPrepend"
    ]
   },
   "outputs": [
    {
     "output_type": "stream",
     "name": "stdout",
     "text": "\"L6\",\"mass\":\"3200\",\"fall\":\"Fell\",\"year\":\"1863-01-01T00:00:00.000\",\"reclat\":\"24.333330\",\"reclong\":\"90.166670\",\"geolocation\":{\"type\":\"Point\",\"coordinates\":[90.16667,24.33333]}}\n,{\"name\":\"Siena\",\"id\":\"23586\",\"nametype\":\"Valid\",\"recclass\":\"LL5\",\"mass\":\"3700\",\"fall\":\"Fell\",\"year\":\"1794-01-01T00:00:00.000\",\"reclat\":\"43.116670\",\"reclong\":\"11.600000\",\"geolocation\":{\"type\":\"Point\",\"coordinates\":[11.6,43.11667]}}\n,{\"name\":\"Sikhote-Alin\",\"id\":\"23593\",\"nametype\":\"Valid\",\"recclass\":\"Iron, IIAB\",\"mass\":\"23000000\",\"fall\":\"Fell\",\"year\":\"1947-01-01T00:00:00.000\",\"reclat\":\"46.160000\",\"reclong\":\"134.653330\",\"geolocation\":{\"type\":\"Point\",\"coordinates\":[134.65333,46.16]}}\n,{\"name\":\"Silao\",\"id\":\"23594\",\"nametype\":\"Valid\",\"recclass\":\"H5\",\"mass\":\"1710\",\"fall\":\"Fell\",\"year\":\"1995-01-01T00:00:00.000\",\"reclat\":\"20.933330\",\"reclong\":\"-101.383330\",\"geolocation\":{\"type\":\"Point\",\"coordinates\":[-101.38333,20.93333]}}\n,{\"name\":\"Silistra\",\"id\":\"55584\",\"nametype\":\"Valid\",\"recclass\":\"Achondrite-ung\",\"mass\":\"0.15\",\"fall\":\"Fell\",\"year\":\"1917-01-01T00:00:00.000\",\"reclat\":\"44.116670\",\"reclong\":\"27.266670\",\"geolocation\":{\"type\":\"Point\",\"coordinates\":[27.26667,44.11667]}}\n,{\"name\":\"Simmern\",\"id\":\"23603\",\"nametype\":\"Valid\",\"recclass\":\"H5\",\"mass\":\"1222\",\"fall\":\"Fell\",\"year\":\"1920-01-01T00:00:00.000\",\"reclat\":\"49.983330\",\"reclong\":\"7.533330\",\"geolocation\":{\"type\":\"Point\",\"coordinates\":[7.53333,49.98333]}}\n,{\"name\":\"Sinai\",\"id\":\"23606\",\"nametype\":\"Valid\",\"recclass\":\"L6\",\"mass\":\"1455\",\"fall\":\"Fell\",\"year\":\"1916-01-01T00:00:00.000\",\"reclat\":\"30.900000\",\"reclong\":\"32.483330\",\"geolocation\":{\"type\":\"Point\",\"coordinates\":[32.48333,30.9]}}\n,{\"name\":\"Sindhri\",\"id\":\"23611\",\"nametype\":\"Valid\",\"recclass\":\"H5\",\"mass\":\"8400\",\"fall\":\"Fell\",\"year\":\"1901-01-01T00:00:00.000\",\"reclat\":\"26.216670\",\"reclong\":\"69.550000\",\"geolocation\":{\"type\":\"Point\",\"coordinates\":[69.55,26.21667]}}\n,{\"name\":\"Sinnai\",\"id\":\"23613\",\"nametype\":\"Valid\",\"recclass\":\"H6\",\"mass\":\"2000\",\"fall\":\"Fell\",\"year\":\"1956-01-01T00:00:00.000\",\"reclat\":\"39.300000\",\"reclong\":\"9.200000\",\"geolocation\":{\"type\":\"Point\",\"coordinates\":[9.2,39.3]}}\n,{\"name\":\"Sioux County\",\"id\":\"23614\",\"nametype\":\"Valid\",\"recclass\":\"Eucrite-mmict\",\"mass\":\"4100\",\"fall\":\"Fell\",\"year\":\"1933-01-01T00:00:00.000\",\"reclat\":\"42.583330\",\"reclong\":\"-103.666670\",\"geolocation\":{\"type\":\"Point\",\"coordinates\":[-103.66667,42.58333]},\":@computed_region_cbhk_fwbd\":\"19\",\":@computed_region_nnqa_25f4\":\"2351\"}\n,{\"name\":\"Sitathali\",\"id\":\"23616\",\"nametype\":\"Valid\",\"recclass\":\"H5\",\"mass\":\"1600\",\"fall\":\"Fell\",\"year\":\"1875-01-01T00:00:00.000\",\"reclat\":\"20.916670\",\"reclong\":\"82.583330\",\"geolocation\":{\"type\":\"Point\",\"coordinates\":[82.58333,20.91667]}}\n,{\"name\":\"Sivas\",\"id\":\"23617\",\"nametype\":\"Valid\",\"recclass\":\"H6\",\"mass\":\"40000\",\"fall\":\"Fell\",\"year\":\"1989-01-01T00:00:00.000\",\"reclat\":\"39.824670\",\"reclong\":\"36.135830\",\"geolocation\":{\"type\":\"Point\",\"coordinates\":[36.13583,39.82467]}}\n,{\"name\":\"Sixiangkou\",\"id\":\"23619\",\"nametype\":\"Valid\",\"recclass\":\"L5\",\"mass\":\"630\",\"fall\":\"Fell\",\"year\":\"1989-01-01T00:00:00.000\",\"reclat\":\"32.433330\",\"reclong\":\"119.866670\",\"geolocation\":{\"type\":\"Point\",\"coordinates\":[119.86667,32.43333]}}\n,{\"name\":\"Ski\",\"id\":\"23621\",\"nametype\":\"Valid\",\"recclass\":\"L6\",\"mass\":\"850\",\"fall\":\"Fell\",\"year\":\"1848-01-01T00:00:00.000\",\"reclat\":\"59.733330\",\"reclong\":\"10.866670\",\"geolocation\":{\"type\":\"Point\",\"coordinates\":[10.86667,59.73333]}}\n,{\"name\":\"Slavetic\",\"id\":\"23626\",\"nametype\":\"Valid\",\"recclass\":\"H5\",\"mass\":\"1708\",\"fall\":\"Fell\",\"year\":\"1868-01-01T00:00:00.000\",\"reclat\":\"45.683330\",\"reclong\":\"15.600000\",\"geolocation\":{\"type\":\"Point\",\"coordinates\":[15.6,45.68333]}}\n,{\"name\":\"Slobodka\",\"id\":\"23645\",\"nametype\":\"Valid\",\"recclass\":\"L4\",\"mass\":\"2750\",\"fall\":\"Fell\",\"year\":\"1818-01-01T00:00:00.000\",\"reclat\":\"55.000000\",\"reclong\":\"35.000000\",\"geolocation\":{\"type\":\"Point\",\"coordinates\":[35,55]}}\n,{\"name\":\"Soheria\",\"id\":\"23660\",\"nametype\":\"Valid\",\"recclass\":\"OC\",\"mass\":\"72.900000000000006\",\"fall\":\"Fell\",\"year\":\"1960-01-01T00:00:00.000\",\"reclat\":\"27.133330\",\"reclong\":\"84.066670\",\"geolocation\":{\"type\":\"Point\",\"coordinates\":[84.06667,27.13333]}}\n,{\"name\":\"Soko-Banja\",\"id\":\"23661\",\"nametype\":\"Valid\",\"recclass\":\"LL4\",\"mass\":\"80000\",\"fall\":\"Fell\",\"year\":\"1877-01-01T00:00:00.000\",\"reclat\":\"43.666670\",\"reclong\":\"21.866670\",\"geolocation\":{\"type\":\"Point\",\"coordinates\":[21.86667,43.66667]}}\n,{\"name\":\"Sologne\",\"id\":\"23663\",\"nametype\":\"Valid\",\"recclass\":\"H5\",\"mass\":\"54\",\"fall\":\"Fell\",\"year\":\"1860-01-01T00:00:00.000\",\"reclat\":\"47.366670\",\"reclong\":\"1.733330\",\"geolocation\":{\"type\":\"Point\",\"coordinates\":[1.73333,47.36667]}}\n,{\"name\":\"Sołtmany\",\"id\":\"53829\",\"nametype\":\"Valid\",\"recclass\":\"L6\",\"mass\":\"1066\",\"fall\":\"Fell\",\"year\":\"2011-01-01T00:00:00.000\",\"reclat\":\"54.008830\",\"reclong\":\"22.005000\",\"geolocation\":{\"type\":\"Point\",\"coordinates\":[22.005,54.00883]}}\n,{\"name\":\"Sone\",\"id\":\"23667\",\"nametype\":\"Valid\",\"recclass\":\"H5\",\"mass\":\"17100\",\"fall\":\"Fell\",\"year\":\"1866-01-01T00:00:00.000\",\"reclat\":\"35.166670\",\"reclong\":\"135.333330\",\"geolocation\":{\"type\":\"Point\",\"coordinates\":[135.33333,35.16667]}}\n,{\"name\":\"Songyuan\",\"id\":\"23668\",\"nametype\":\"Valid\",\"recclass\":\"L6\",\"mass\":\"36900\",\"fall\":\"Fell\",\"year\":\"1993-01-01T00:00:00.000\",\"reclat\":\"45.250000\",\"reclong\":\"125.000000\",\"geolocation\":{\"type\":\"Point\",\"coordinates\":[125,45.25]}}\n,{\"name\":\"Sopot\",\"id\":\"23670\",\"nametype\":\"Valid\",\"recclass\":\"OC\",\"mass\":\"958\",\"fall\":\"Fell\",\"year\":\"1927-01-01T00:00:00.000\",\"reclat\":\"44.416670\",\"reclong\":\"23.500000\",\"geolocation\":{\"type\":\"Point\",\"coordinates\":[23.5,44.41667]}}\n,{\"name\":\"Soroti\",\"id\":\"23671\",\"nametype\":\"Valid\",\"recclass\":\"Iron, ungrouped\",\"mass\":\"2050\",\"fall\":\"Fell\",\"year\":\"1945-01-01T00:00:00.000\",\"reclat\":\"1.700000\",\"reclong\":\"33.633330\",\"geolocation\":{\"type\":\"Point\",\"coordinates\":[33.63333,1.7]}}\n,{\"name\":\"St. Caprais-de-Quinsac\",\"id\":\"23081\",\"nametype\":\"Valid\",\"recclass\":\"L6\",\"mass\":\"360\",\"fall\":\"Fell\",\"year\":\"1883-01-01T00:00:00.000\",\"reclat\":\"44.750000\",\"reclong\":\"0.050000\",\"geolocation\":{\"type\":\"Point\",\"coordinates\":[0.05,44.75]}}\n,{\"name\":\"St. Christophe-la-Chartreuse\",\"id\":\"23082\",\"nametype\":\"Valid\",\"recclass\":\"L6\",\"mass\":\"5500\",\"fall\":\"Fell\",\"year\":\"1841-01-01T00:00:00.000\",\"reclat\":\"46.950000\",\"reclong\":\"-1.500000\",\"geolocation\":{\"type\":\"Point\",\"coordinates\":[-1.5,46.95]}}\n,{\"name\":\"St. Denis Westrem\",\"id\":\"23083\",\"nametype\":\"Valid\",\"recclass\":\"L6\",\"mass\":\"700\",\"fall\":\"Fell\",\"year\":\"1855-01-01T00:00:00.000\",\"reclat\":\"51.050000\",\"reclong\":\"3.750000\",\"geolocation\":{\"type\":\"Point\",\"coordinates\":[3.75,51.05]}}\n,{\"name\":\"St. Germain-du-Pinel\",\"id\":\"23087\",\"nametype\":\"Valid\",\"recclass\":\"H6\",\"mass\":\"4000\",\"fall\":\"Fell\",\"year\":\"1890-01-01T00:00:00.000\",\"reclat\":\"48.016670\",\"reclong\":\"-1.150000\",\"geolocation\":{\"type\":\"Point\",\"coordinates\":[-1.15,48.01667]}}\n,{\"name\":\"St. Louis\",\"id\":\"23089\",\"nametype\":\"Valid\",\"recclass\":\"H4\",\"mass\":\"1000\",\"fall\":\"Fell\",\"year\":\"1950-01-01T00:00:00.000\",\"reclat\":\"38.700000\",\"reclong\":\"-90.233330\",\"geolocation\":{\"type\":\"Point\",\"coordinates\":[-90.23333,38.7]},\":@computed_region_cbhk_fwbd\":\"18\",\":@computed_region_nnqa_25f4\":\"2223\"}\n,{\"name\":\"St. Mark's\",\"id\":\"23090\",\"nametype\":\"Valid\",\"recclass\":\"EH5\",\"mass\":\"13780\",\"fall\":\"Fell\",\"year\":\"1903-01-01T00:00:00.000\",\"reclat\":\"-32.016670\",\"reclong\":\"27.416670\",\"geolocation\":{\"type\":\"Point\",\"coordinates\":[27.41667,-32.01667]}}\n,{\"name\":\"St. Mary's County\",\"id\":\"23091\",\"nametype\":\"Valid\",\"recclass\":\"LL3.3\",\"mass\":\"24.3\",\"fall\":\"Fell\",\"year\":\"1919-01-01T00:00:00.000\",\"reclat\":\"38.166670\",\"reclong\":\"-76.383330\",\"geolocation\":{\"type\":\"Point\",\"coordinates\":[-76.38333,38.16667]},\":@computed_region_cbhk_fwbd\":\"45\",\":@computed_region_nnqa_25f4\":\"424\"}\n,{\"name\":\"St. Mesmin\",\"id\":\"23092\",\"nametype\":\"Valid\",\"recclass\":\"LL6\",\"mass\":\"8300\",\"fall\":\"Fell\",\"year\":\"1866-01-01T00:00:00.000\",\"reclat\":\"48.450000\",\"reclong\":\"3.933330\",\"geolocation\":{\"type\":\"Point\",\"coordinates\":[3.93333,48.45]}}\n,{\"name\":\"St. Michel\",\"id\":\"23093\",\"nametype\":\"Valid\",\"recclass\":\"L6\",\"mass\":\"17000\",\"fall\":\"Fell\",\"year\":\"1910-01-01T00:00:00.000\",\"reclat\":\"61.650000\",\"reclong\":\"27.200000\",\"geolocation\":{\"type\":\"Point\",\"coordinates\":[27.2,61.65]}}\n,{\"name\":\"St.-Chinian\",\"id\":\"23097\",\"nametype\":\"Valid\",\"recclass\":\"L6\",\"mass\":\"134.30000000000001\",\"fall\":\"Fell\",\"year\":\"1959-01-01T00:00:00.000\",\"reclat\":\"43.433330\",\"reclong\":\"2.950000\",\"geolocation\":{\"type\":\"Point\",\"coordinates\":[2.95,43.43333]}}\n,{\"name\":\"Ställdalen\",\"id\":\"23712\",\"nametype\":\"Valid\",\"recclass\":\"H5\",\"mass\":\"34000\",\"fall\":\"Fell\",\"year\":\"1876-01-01T00:00:00.000\",\"reclat\":\"59.933330\",\"reclong\":\"14.950000\",\"geolocation\":{\"type\":\"Point\",\"coordinates\":[14.95,59.93333]}}\n,{\"name\":\"Stannern\",\"id\":\"23713\",\"nametype\":\"Valid\",\"recclass\":\"Eucrite-mmict\",\"mass\":\"52000\",\"fall\":\"Fell\",\"year\":\"1808-01-01T00:00:00.000\",\"reclat\":\"49.283330\",\"reclong\":\"15.566670\",\"geolocation\":{\"type\":\"Point\",\"coordinates\":[15.56667,49.28333]}}\n,{\"name\":\"Stavropol\",\"id\":\"23717\",\"nametype\":\"Valid\",\"recclass\":\"L6\",\"mass\":\"1500\",\"fall\":\"Fell\",\"year\":\"1857-01-01T00:00:00.000\",\"reclat\":\"45.050000\",\"reclong\":\"41.983330\",\"geolocation\":{\"type\":\"Point\",\"coordinates\":[41.98333,45.05]}}\n,{\"name\":\"Ste. Marguerite\",\"id\":\"23099\",\"nametype\":\"Valid\",\"recclass\":\"H4\",\"mass\":\"4960\",\"fall\":\"Fell\",\"year\":\"1962-01-01T00:00:00.000\",\"reclat\":\"50.766670\",\"reclong\":\"3.000000\",\"geolocation\":{\"type\":\"Point\",\"coordinates\":[3,50.76667]}}\n,{\"name\":\"Sterlitamak\",\"id\":\"23724\",\"nametype\":\"Valid\",\"recclass\":\"Iron, IIIAB\",\"mass\":\"325000\",\"fall\":\"Fell\",\"year\":\"1990-01-01T00:00:00.000\",\"reclat\":\"53.666670\",\"reclong\":\"55.983330\",\"geolocation\":{\"type\":\"Point\",\"coordinates\":[55.98333,53.66667]}}\n,{\"name\":\"Stolzenau\",\"id\":\"23726\",\"nametype\":\"Valid\",\"recclass\":\"Stone-uncl\",\"fall\":\"Fell\",\"year\":\"1647-01-01T00:00:00.000\",\"reclat\":\"52.533330\",\"reclong\":\"9.050000\",\"geolocation\":{\"type\":\"Point\",\"coordinates\":[9.05,52.53333]}}\n,{\"name\":\"Stratford\",\"id\":\"23728\",\"nametype\":\"Valid\",\"recclass\":\"L6\",\"mass\":\"50\",\"fall\":\"Fell\",\"year\":\"1974-01-01T00:00:00.000\",\"reclat\":\"41.200000\",\"reclong\":\"-73.133330\",\"geolocation\":{\"type\":\"Point\",\"coordinates\":[-73.13333,41.2]},\":@computed_region_cbhk_fwbd\":\"24\",\":@computed_region_nnqa_25f4\":\"1040\"}\n,{\"name\":\"Strathmore\",\"id\":\"23729\",\"nametype\":\"Valid\",\"recclass\":\"L6\",\"mass\":\"13400\",\"fall\":\"Fell\",\"year\":\"1917-01-01T00:00:00.000\",\"reclat\":\"56.583330\",\"reclong\":\"-3.250000\",\"geolocation\":{\"type\":\"Point\",\"coordinates\":[-3.25,56.58333]}}\n,{\"name\":\"Stretchleigh\",\"id\":\"23732\",\"nametype\":\"Valid\",\"recclass\":\"Stone-uncl\",\"mass\":\"10400\",\"fall\":\"Fell\",\"year\":\"1623-01-01T00:00:00.000\",\"reclat\":\"50.383330\",\"reclong\":\"-3.950000\",\"geolocation\":{\"type\":\"Point\",\"coordinates\":[-3.95,50.38333]}}\n,{\"name\":\"St-Robert\",\"id\":\"23733\",\"nametype\":\"Valid\",\"recclass\":\"H5\",\"mass\":\"25400\",\"fall\":\"Fell\",\"year\":\"1994-01-01T00:00:00.000\",\"reclat\":\"45.968610\",\"reclong\":\"-72.978060\",\"geolocation\":{\"type\":\"Point\",\"coordinates\":[-72.97806,45.96861]}}\n,{\"name\":\"Success\",\"id\":\"23736\",\"nametype\":\"Valid\",\"recclass\":\"L6\",\"mass\":\"3500\",\"fall\":\"Fell\",\"year\":\"1924-01-01T00:00:00.000\",\"reclat\":\"36.483330\",\"reclong\":\"-90.666670\",\"geolocation\":{\"type\":\"Point\",\"coordinates\":[-90.66667,36.48333]},\":@computed_region_cbhk_fwbd\":\"15\",\":@computed_region_nnqa_25f4\":\"955\"}\n,{\"name\":\"Suchy Dul\",\"id\":\"23737\",\"nametype\":\"Valid\",\"recclass\":\"L6\",\"mass\":\"815.3\",\"fall\":\"Fell\",\"year\":\"1969-01-01T00:00:00.000\",\"reclat\":\"50.538060\",\"reclong\":\"16.263330\",\"geolocation\":{\"type\":\"Point\",\"coordinates\":[16.26333,50.53806]}}\n,{\"name\":\"Suizhou\",\"id\":\"23738\",\"nametype\":\"Valid\",\"recclass\":\"L6\",\"mass\":\"260000\",\"fall\":\"Fell\",\"year\":\"1986-01-01T00:00:00.000\",\"reclat\":\"31.616670\",\"reclong\":\"113.466670\",\"geolocation\":{\"type\":\"Point\",\"coordinates\":[113.46667,31.61667]}}\n,{\"name\":\"Sulagiri\",\"id\":\"48951\",\"nametype\":\"Valid\",\"recclass\":\"LL6\",\"mass\":\"110000\",\"fall\":\"Fell\",\"year\":\"2008-01-01T00:00:00.000\",\"reclat\":\"12.666670\",\"reclong\":\"78.033330\",\"geolocation\":{\"type\":\"Point\",\"coordinates\":[78.03333,12.66667]}}\n,{\"name\":\"Sultanpur\",\"id\":\"23741\",\"nametype\":\"Valid\",\"recclass\":\"L/LL6\",\"mass\":\"1710.5\",\"fall\":\"Fell\",\"year\":\"1916-01-01T00:00:00.000\",\"reclat\":\"25.933330\",\"reclong\":\"84.283330\",\"geolocation\":{\"type\":\"Point\",\"coordinates\":[84.28333,25.93333]}}\n,{\"name\":\"Sungach\",\"id\":\"23745\",\"nametype\":\"Valid\",\"recclass\":\"H5\",\"mass\":\"637\",\"fall\":\"Fell\",\"year\":\"1935-01-01T00:00:00.000\",\"reclat\":\"44.866670\",\"reclong\":\"133.166670\",\"geolocation\":{\"type\":\"Point\",\"coordinates\":[133.16667,44.86667]}}\n,{\"name\":\"Supuhee\",\"id\":\"23760\",\"nametype\":\"Valid\",\"recclass\":\"H6\",\"mass\":\"7235\",\"fall\":\"Fell\",\"year\":\"1865-01-01T00:00:00.000\",\"reclat\":\"26.716670\",\"reclong\":\"84.216670\",\"geolocation\":{\"type\":\"Point\",\"coordinates\":[84.21667,26.71667]}}\n,{\"name\":\"Sutter's Mill\",\"id\":\"55529\",\"nametype\":\"Valid\",\"recclass\":\"C\",\"mass\":\"992.5\",\"fall\":\"Fell\",\"year\":\"2012-01-01T00:00:00.000\",\"reclat\":\"38.803890\",\"reclong\":\"-120.908060\",\"geolocation\":{\"type\":\"Point\",\"coordinates\":[-120.90806,38.80389]},\":@computed_region_cbhk_fwbd\":\"8\",\":@computed_region_nnqa_25f4\":\"1187\"}\n,{\"name\":\"Sylacauga\",\"id\":\"23773\",\"nametype\":\"Valid\",\"recclass\":\"H4\",\"mass\":\"5560\",\"fall\":\"Fell\",\"year\":\"1954-01-01T00:00:00.000\",\"reclat\":\"33.188360\",\"reclong\":\"-86.294500\",\"geolocation\":{\"type\":\"Point\",\"coordinates\":[-86.2945,33.18836]},\":@computed_region_cbhk_fwbd\":\"29\",\":@computed_region_nnqa_25f4\":\"1637\"}\n,{\"name\":\"Tabor\",\"id\":\"23776\",\"nametype\":\"Valid\",\"recclass\":\"H5\",\"mass\":\"7540\",\"fall\":\"Fell\",\"year\":\"1753-01-01T00:00:00.000\",\"reclat\":\"49.400000\",\"reclong\":\"14.650000\",\"geolocation\":{\"type\":\"Point\",\"coordinates\":[14.65,49.4]}}\n,{\"name\":\"Tadjera\",\"id\":\"23778\",\"nametype\":\"Valid\",\"recclass\":\"L5\",\"mass\":\"9000\",\"fall\":\"Fell\",\"year\":\"1867-01-01T00:00:00.000\",\"reclat\":\"36.183330\",\"reclong\":\"5.416670\",\"geolocation\":{\"type\":\"Point\",\"coordinates\":[5.41667,36.18333]}}\n,{\"name\":\"Tagish Lake\",\"id\":\"23782\",\"nametype\":\"Valid\",\"recclass\":\"C2-ung\",\"mass\":\"10000\",\"fall\":\"Fell\",\"year\":\"2000-01-01T00:00:00.000\",\"reclat\":\"59.704440\",\"reclong\":\"-134.201390\",\"geolocation\":{\"type\":\"Point\",\"coordinates\":[-134.20139,59.70444]}}\n,{\"name\":\"Tahara\",\"id\":\"23784\",\"nametype\":\"Valid\",\"recclass\":\"H4/5\",\"mass\":\"1000\",\"fall\":\"Fell\",\"year\":\"1991-01-01T00:00:00.000\",\"reclat\":\"34.720000\",\"reclong\":\"137.305000\",\"geolocation\":{\"type\":\"Point\",\"coordinates\":[137.305,34.72]}}\n,{\"name\":\"Takenouchi\",\"id\":\"23789\",\"nametype\":\"Valid\",\"recclass\":\"H5\",\"mass\":\"720\",\"fall\":\"Fell\",\"year\":\"1880-01-01T00:00:00.000\",\"reclat\":\"35.383330\",\"reclong\":\"134.900000\",\"geolocation\":{\"type\":\"Point\",\"coordinates\":[134.9,35.38333]}}\n,{\"name\":\"Talampaya\",\"id\":\"23791\",\"nametype\":\"Valid\",\"recclass\":\"Eucrite-cm\",\"mass\":\"1421\",\"fall\":\"Fell\",\"year\":\"1995-01-01T00:00:00.000\"}\n,{\"name\":\"Tambakwatu\",\"id\":\"23795\",\"nametype\":\"Valid\",\"recclass\":\"L6\",\"mass\":\"10500\",\"fall\":\"Fell\",\"year\":\"1975-01-01T00:00:00.000\",\"reclat\":\"-7.750000\",\"reclong\":\"112.766670\",\"geolocation\":{\"type\":\"Point\",\"coordinates\":[112.76667,-7.75]}}\n,{\"name\":\"Tamdakht\",\"id\":\"48691\",\"nametype\":\"Valid\",\"recclass\":\"H5\",\"mass\":\"100000\",\"fall\":\"Fell\",\"year\":\"2008-01-01T00:00:00.000\",\"reclat\":\"31.163330\",\"reclong\":\"-7.015000\",\"geolocation\":{\"type\":\"Point\",\"coordinates\":[-7.015,31.16333]}}\n,{\"name\":\"Tané\",\"id\":\"23801\",\"nametype\":\"Valid\",\"recclass\":\"L5\",\"mass\":\"905\",\"fall\":\"Fell\",\"year\":\"1918-01-01T00:00:00.000\",\"reclat\":\"35.433330\",\"reclong\":\"136.233330\",\"geolocation\":{\"type\":\"Point\",\"coordinates\":[136.23333,35.43333]}}\n,{\"name\":\"Taonan\",\"id\":\"23873\",\"nametype\":\"Valid\",\"recclass\":\"L5\",\"mass\":\"3850\",\"fall\":\"Fell\",\"year\":\"1965-01-01T00:00:00.000\",\"reclat\":\"45.400000\",\"reclong\":\"122.900000\",\"geolocation\":{\"type\":\"Point\",\"coordinates\":[122.9,45.4]}}\n,{\"name\":\"Tatahouine\",\"id\":\"23884\",\"nametype\":\"Valid\",\"recclass\":\"Diogenite\",\"mass\":\"12000\",\"fall\":\"Fell\",\"year\":\"1931-01-01T00:00:00.000\",\"reclat\":\"32.950000\",\"reclong\":\"10.416670\",\"geolocation\":{\"type\":\"Point\",\"coordinates\":[10.41667,32.95]}}\n,{\"name\":\"Tathlith\",\"id\":\"23885\",\"nametype\":\"Valid\",\"recclass\":\"L6\",\"mass\":\"2500\",\"fall\":\"Fell\",\"year\":\"1967-01-01T00:00:00.000\",\"reclat\":\"19.383330\",\"reclong\":\"43.733330\",\"geolocation\":{\"type\":\"Point\",\"coordinates\":[43.73333,19.38333]}}\n,{\"name\":\"Tauk\",\"id\":\"23887\",\"nametype\":\"Valid\",\"recclass\":\"L6\",\"mass\":\"6000\",\"fall\":\"Fell\",\"year\":\"1929-01-01T00:00:00.000\",\"reclat\":\"35.133330\",\"reclong\":\"44.450000\",\"geolocation\":{\"type\":\"Point\",\"coordinates\":[44.45,35.13333]}}\n,{\"name\":\"Tauti\",\"id\":\"23888\",\"nametype\":\"Valid\",\"recclass\":\"L6\",\"mass\":\"21000\",\"fall\":\"Fell\",\"year\":\"1937-01-01T00:00:00.000\",\"reclat\":\"46.716670\",\"reclong\":\"23.500000\",\"geolocation\":{\"type\":\"Point\",\"coordinates\":[23.5,46.71667]}}\n,{\"name\":\"Tenham\",\"id\":\"23897\",\"nametype\":\"Valid\",\"recclass\":\"L6\",\"mass\":\"160000\",\"fall\":\"Fell\",\"year\":\"1879-01-01T00:00:00.000\",\"reclat\":\"-25.733330\",\"reclong\":\"142.950000\",\"geolocation\":{\"type\":\"Point\",\"coordinates\":[142.95,-25.73333]}}\n,{\"name\":\"Tennasilm\",\"id\":\"23898\",\"nametype\":\"Valid\",\"recclass\":\"L4\",\"mass\":\"28500\",\"fall\":\"Fell\",\"year\":\"1872-01-01T00:00:00.000\",\"reclat\":\"58.033330\",\"reclong\":\"26.950000\",\"geolocation\":{\"type\":\"Point\",\"coordinates\":[26.95,58.03333]}}\n,{\"name\":\"Thal\",\"id\":\"23908\",\"nametype\":\"Valid\",\"recclass\":\"H6\",\"mass\":\"342\",\"fall\":\"Fell\",\"year\":\"1950-01-01T00:00:00.000\",\"reclat\":\"33.400000\",\"reclong\":\"70.600000\",\"geolocation\":{\"type\":\"Point\",\"coordinates\":[70.6,33.4]}}\n,{\"name\":\"Thika\",\"id\":\"54493\",\"nametype\":\"Valid\",\"recclass\":\"L6\",\"mass\":\"14200\",\"fall\":\"Fell\",\"year\":\"2011-01-01T00:00:00.000\",\"reclat\":\"-1.002780\",\"reclong\":\"37.150280\",\"geolocation\":{\"type\":\"Point\",\"coordinates\":[37.15028,-1.00278]}}\n,{\"name\":\"Thuathe\",\"id\":\"23976\",\"nametype\":\"Valid\",\"recclass\":\"H4/5\",\"mass\":\"45300\",\"fall\":\"Fell\",\"year\":\"2002-01-01T00:00:00.000\",\"reclat\":\"-29.333330\",\"reclong\":\"27.583330\",\"geolocation\":{\"type\":\"Point\",\"coordinates\":[27.58333,-29.33333]}}\n,{\"name\":\"Tianzhang\",\"id\":\"23984\",\"nametype\":\"Valid\",\"recclass\":\"H5\",\"mass\":\"2232\",\"fall\":\"Fell\",\"year\":\"1986-01-01T00:00:00.000\",\"reclat\":\"32.946670\",\"reclong\":\"118.990000\",\"geolocation\":{\"type\":\"Point\",\"coordinates\":[118.99,32.94667]}}\n,{\"name\":\"Tieschitz\",\"id\":\"23989\",\"nametype\":\"Valid\",\"recclass\":\"H/L3.6\",\"mass\":\"28000\",\"fall\":\"Fell\",\"year\":\"1878-01-01T00:00:00.000\",\"reclat\":\"49.600000\",\"reclong\":\"17.116670\",\"geolocation\":{\"type\":\"Point\",\"coordinates\":[17.11667,49.6]}}\n,{\"name\":\"Tilden\",\"id\":\"23998\",\"nametype\":\"Valid\",\"recclass\":\"L6\",\"mass\":\"74800\",\"fall\":\"Fell\",\"year\":\"1927-01-01T00:00:00.000\",\"reclat\":\"38.200000\",\"reclong\":\"-89.683330\",\"geolocation\":{\"type\":\"Point\",\"coordinates\":[-89.68333,38.2]},\":@computed_region_cbhk_fwbd\":\"34\",\":@computed_region_nnqa_25f4\":\"1762\"}\n,{\"name\":\"Tillaberi\",\"id\":\"23999\",\"nametype\":\"Valid\",\"recclass\":\"L6\",\"mass\":\"3000\",\"fall\":\"Fell\",\"year\":\"1970-01-01T00:00:00.000\",\"reclat\":\"14.250000\",\"reclong\":\"1.533330\",\"geolocation\":{\"type\":\"Point\",\"coordinates\":[1.53333,14.25]}}\n,{\"name\":\"Timochin\",\"id\":\"24004\",\"nametype\":\"Valid\",\"recclass\":\"H5\",\"mass\":\"65500\",\"fall\":\"Fell\",\"year\":\"1807-01-01T00:00:00.000\",\"reclat\":\"54.500000\",\"reclong\":\"35.200000\",\"geolocation\":{\"type\":\"Point\",\"coordinates\":[35.2,54.5]}}\n,{\"name\":\"Tirupati\",\"id\":\"24009\",\"nametype\":\"Valid\",\"recclass\":\"H6\",\"mass\":\"230\",\"fall\":\"Fell\",\"year\":\"1934-01-01T00:00:00.000\",\"reclat\":\"13.633330\",\"reclong\":\"79.416670\",\"geolocation\":{\"type\":\"Point\",\"coordinates\":[79.41667,13.63333]}}\n,{\"name\":\"Tissint\",\"id\":\"54823\",\"nametype\":\"Valid\",\"recclass\":\"Martian (shergottite)\",\"mass\":\"7000\",\"fall\":\"Fell\",\"year\":\"2011-01-01T00:00:00.000\",\"reclat\":\"29.481950\",\"reclong\":\"-7.611230\",\"geolocation\":{\"type\":\"Point\",\"coordinates\":[-7.61123,29.48195]}}\n,{\"name\":\"Tjabe\",\"id\":\"24011\",\"nametype\":\"Valid\",\"recclass\":\"H6\",\"mass\":\"20000\",\"fall\":\"Fell\",\"year\":\"1869-01-01T00:00:00.000\",\"reclat\":\"-7.083330\",\"reclong\":\"111.533330\",\"geolocation\":{\"type\":\"Point\",\"coordinates\":[111.53333,-7.08333]}}\n,{\"name\":\"Tjerebon\",\"id\":\"24012\",\"nametype\":\"Valid\",\"recclass\":\"L5\",\"mass\":\"16500\",\"fall\":\"Fell\",\"year\":\"1922-01-01T00:00:00.000\",\"reclat\":\"-6.666670\",\"reclong\":\"106.583330\",\"geolocation\":{\"type\":\"Point\",\"coordinates\":[106.58333,-6.66667]}}\n,{\"name\":\"Tomakovka\",\"id\":\"24019\",\"nametype\":\"Valid\",\"recclass\":\"LL6\",\"mass\":\"600\",\"fall\":\"Fell\",\"year\":\"1905-01-01T00:00:00.000\",\"reclat\":\"47.850000\",\"reclong\":\"34.766670\",\"geolocation\":{\"type\":\"Point\",\"coordinates\":[34.76667,47.85]}}]\n\n"
    }
   ],
   "source": [
    "# Run this code\n",
    "\n",
    "from urllib.request import urlopen\n",
    "import json\n",
    "\n",
    "response = urlopen(\"https://data.nasa.gov/resource/y77d-th95.json\")\n",
    "json_data = response.read().decode('utf-8', 'replace')\n",
    "print(json_data)"
   ]
  },
  {
   "cell_type": "markdown",
   "metadata": {},
   "source": [
    "In the next cell, load the data in `json_data` and load it into a pandas dataframe. Name the dataframe `nasa`."
   ]
  },
  {
   "cell_type": "code",
   "execution_count": 7,
   "metadata": {},
   "outputs": [],
   "source": [
    "# Your code here:\n",
    "\n",
    "nasa = pd.read_json(json_data)"
   ]
  },
  {
   "cell_type": "markdown",
   "metadata": {},
   "source": [
    "Now that we have loaded the data, let's examine it using the `head()` function."
   ]
  },
  {
   "cell_type": "code",
   "execution_count": 10,
   "metadata": {},
   "outputs": [
    {
     "output_type": "execute_result",
     "data": {
      "text/plain": "                  name   id nametype     recclass      mass  fall  \\\n0               Aachen    1    Valid           L5      21.0  Fell   \n1               Aarhus    2    Valid           H6     720.0  Fell   \n2                 Abee    6    Valid          EH4  107000.0  Fell   \n3             Acapulco   10    Valid  Acapulcoite    1914.0  Fell   \n4              Achiras  370    Valid           L6     780.0  Fell   \n5             Adhi Kot  379    Valid          EH4    4239.0  Fell   \n6  Adzhi-Bogdo (stone)  390    Valid        LL3-6     910.0  Fell   \n7                 Agen  392    Valid           H5   30000.0  Fell   \n8               Aguada  398    Valid           L6    1620.0  Fell   \n9        Aguila Blanca  417    Valid            L    1440.0  Fell   \n\n                      year    reclat    reclong  \\\n0  1880-01-01T00:00:00.000  50.77500    6.08333   \n1  1951-01-01T00:00:00.000  56.18333   10.23333   \n2  1952-01-01T00:00:00.000  54.21667 -113.00000   \n3  1976-01-01T00:00:00.000  16.88333  -99.90000   \n4  1902-01-01T00:00:00.000 -33.16667  -64.95000   \n5  1919-01-01T00:00:00.000  32.10000   71.80000   \n6  1949-01-01T00:00:00.000  44.83333   95.16667   \n7  1814-01-01T00:00:00.000  44.21667    0.61667   \n8  1930-01-01T00:00:00.000 -31.60000  -65.23333   \n9  1920-01-01T00:00:00.000 -30.86667  -64.55000   \n\n                                         geolocation  \\\n0  {'type': 'Point', 'coordinates': [6.08333, 50....   \n1  {'type': 'Point', 'coordinates': [10.23333, 56...   \n2  {'type': 'Point', 'coordinates': [-113, 54.216...   \n3  {'type': 'Point', 'coordinates': [-99.9, 16.88...   \n4  {'type': 'Point', 'coordinates': [-64.95, -33....   \n5     {'type': 'Point', 'coordinates': [71.8, 32.1]}   \n6  {'type': 'Point', 'coordinates': [95.16667, 44...   \n7  {'type': 'Point', 'coordinates': [0.61667, 44....   \n8  {'type': 'Point', 'coordinates': [-65.23333, -...   \n9  {'type': 'Point', 'coordinates': [-64.55, -30....   \n\n   :@computed_region_cbhk_fwbd  :@computed_region_nnqa_25f4  \n0                          NaN                          NaN  \n1                          NaN                          NaN  \n2                          NaN                          NaN  \n3                          NaN                          NaN  \n4                          NaN                          NaN  \n5                          NaN                          NaN  \n6                          NaN                          NaN  \n7                          NaN                          NaN  \n8                          NaN                          NaN  \n9                          NaN                          NaN  ",
      "text/html": "<div>\n<style scoped>\n    .dataframe tbody tr th:only-of-type {\n        vertical-align: middle;\n    }\n\n    .dataframe tbody tr th {\n        vertical-align: top;\n    }\n\n    .dataframe thead th {\n        text-align: right;\n    }\n</style>\n<table border=\"1\" class=\"dataframe\">\n  <thead>\n    <tr style=\"text-align: right;\">\n      <th></th>\n      <th>name</th>\n      <th>id</th>\n      <th>nametype</th>\n      <th>recclass</th>\n      <th>mass</th>\n      <th>fall</th>\n      <th>year</th>\n      <th>reclat</th>\n      <th>reclong</th>\n      <th>geolocation</th>\n      <th>:@computed_region_cbhk_fwbd</th>\n      <th>:@computed_region_nnqa_25f4</th>\n    </tr>\n  </thead>\n  <tbody>\n    <tr>\n      <th>0</th>\n      <td>Aachen</td>\n      <td>1</td>\n      <td>Valid</td>\n      <td>L5</td>\n      <td>21.0</td>\n      <td>Fell</td>\n      <td>1880-01-01T00:00:00.000</td>\n      <td>50.77500</td>\n      <td>6.08333</td>\n      <td>{'type': 'Point', 'coordinates': [6.08333, 50....</td>\n      <td>NaN</td>\n      <td>NaN</td>\n    </tr>\n    <tr>\n      <th>1</th>\n      <td>Aarhus</td>\n      <td>2</td>\n      <td>Valid</td>\n      <td>H6</td>\n      <td>720.0</td>\n      <td>Fell</td>\n      <td>1951-01-01T00:00:00.000</td>\n      <td>56.18333</td>\n      <td>10.23333</td>\n      <td>{'type': 'Point', 'coordinates': [10.23333, 56...</td>\n      <td>NaN</td>\n      <td>NaN</td>\n    </tr>\n    <tr>\n      <th>2</th>\n      <td>Abee</td>\n      <td>6</td>\n      <td>Valid</td>\n      <td>EH4</td>\n      <td>107000.0</td>\n      <td>Fell</td>\n      <td>1952-01-01T00:00:00.000</td>\n      <td>54.21667</td>\n      <td>-113.00000</td>\n      <td>{'type': 'Point', 'coordinates': [-113, 54.216...</td>\n      <td>NaN</td>\n      <td>NaN</td>\n    </tr>\n    <tr>\n      <th>3</th>\n      <td>Acapulco</td>\n      <td>10</td>\n      <td>Valid</td>\n      <td>Acapulcoite</td>\n      <td>1914.0</td>\n      <td>Fell</td>\n      <td>1976-01-01T00:00:00.000</td>\n      <td>16.88333</td>\n      <td>-99.90000</td>\n      <td>{'type': 'Point', 'coordinates': [-99.9, 16.88...</td>\n      <td>NaN</td>\n      <td>NaN</td>\n    </tr>\n    <tr>\n      <th>4</th>\n      <td>Achiras</td>\n      <td>370</td>\n      <td>Valid</td>\n      <td>L6</td>\n      <td>780.0</td>\n      <td>Fell</td>\n      <td>1902-01-01T00:00:00.000</td>\n      <td>-33.16667</td>\n      <td>-64.95000</td>\n      <td>{'type': 'Point', 'coordinates': [-64.95, -33....</td>\n      <td>NaN</td>\n      <td>NaN</td>\n    </tr>\n    <tr>\n      <th>5</th>\n      <td>Adhi Kot</td>\n      <td>379</td>\n      <td>Valid</td>\n      <td>EH4</td>\n      <td>4239.0</td>\n      <td>Fell</td>\n      <td>1919-01-01T00:00:00.000</td>\n      <td>32.10000</td>\n      <td>71.80000</td>\n      <td>{'type': 'Point', 'coordinates': [71.8, 32.1]}</td>\n      <td>NaN</td>\n      <td>NaN</td>\n    </tr>\n    <tr>\n      <th>6</th>\n      <td>Adzhi-Bogdo (stone)</td>\n      <td>390</td>\n      <td>Valid</td>\n      <td>LL3-6</td>\n      <td>910.0</td>\n      <td>Fell</td>\n      <td>1949-01-01T00:00:00.000</td>\n      <td>44.83333</td>\n      <td>95.16667</td>\n      <td>{'type': 'Point', 'coordinates': [95.16667, 44...</td>\n      <td>NaN</td>\n      <td>NaN</td>\n    </tr>\n    <tr>\n      <th>7</th>\n      <td>Agen</td>\n      <td>392</td>\n      <td>Valid</td>\n      <td>H5</td>\n      <td>30000.0</td>\n      <td>Fell</td>\n      <td>1814-01-01T00:00:00.000</td>\n      <td>44.21667</td>\n      <td>0.61667</td>\n      <td>{'type': 'Point', 'coordinates': [0.61667, 44....</td>\n      <td>NaN</td>\n      <td>NaN</td>\n    </tr>\n    <tr>\n      <th>8</th>\n      <td>Aguada</td>\n      <td>398</td>\n      <td>Valid</td>\n      <td>L6</td>\n      <td>1620.0</td>\n      <td>Fell</td>\n      <td>1930-01-01T00:00:00.000</td>\n      <td>-31.60000</td>\n      <td>-65.23333</td>\n      <td>{'type': 'Point', 'coordinates': [-65.23333, -...</td>\n      <td>NaN</td>\n      <td>NaN</td>\n    </tr>\n    <tr>\n      <th>9</th>\n      <td>Aguila Blanca</td>\n      <td>417</td>\n      <td>Valid</td>\n      <td>L</td>\n      <td>1440.0</td>\n      <td>Fell</td>\n      <td>1920-01-01T00:00:00.000</td>\n      <td>-30.86667</td>\n      <td>-64.55000</td>\n      <td>{'type': 'Point', 'coordinates': [-64.55, -30....</td>\n      <td>NaN</td>\n      <td>NaN</td>\n    </tr>\n  </tbody>\n</table>\n</div>"
     },
     "metadata": {},
     "execution_count": 10
    }
   ],
   "source": [
    "# Your code here:\n",
    "nasa.head(10)\n",
    "\n",
    ""
   ]
  },
  {
   "cell_type": "markdown",
   "metadata": {},
   "source": [
    "#### The `value_counts()` function is commonly used in pandas to find the frequency of every value in a column.\n",
    "\n",
    "In the cell below, use the `value_counts()` function to determine the frequency of all types of asteroid landings by applying the function to the `fall` column."
   ]
  },
  {
   "cell_type": "code",
   "execution_count": 5,
   "metadata": {},
   "outputs": [],
   "source": [
    "# Your code here:\n",
    "nasa.value_counts()\n",
    "\n"
   ]
  },
  {
   "cell_type": "markdown",
   "metadata": {},
   "source": [
    "Finally, let's save the dataframe as a json file again. Since we downloaded the file from an online source, the goal of saving the dataframe is to have a local copy. Save the dataframe using the `orient=records` argument and name the file `nasa.json`."
   ]
  },
  {
   "cell_type": "code",
   "execution_count": 6,
   "metadata": {},
   "outputs": [],
   "source": [
    "# Your code here:\n",
    "\n"
   ]
  },
  {
   "cell_type": "markdown",
   "metadata": {},
   "source": [
    "# Challenge 2 - Working with CSV and Other Separated Files\n",
    "\n",
    "csv files are more commonly used as dataframes. In the cell below, load the file from the URL provided using the `read_csv()` function in pandas. Starting version 0.19 of pandas, you can load a csv file into a dataframe directly from a URL without having to load the file first like we did with the JSON URL. The dataset we will be using contains informtaions about NASA shuttles. \n",
    "\n",
    "In the cell below, we define the column names and the URL of the data. Following this cell, read the tst file to a variable called `shuttle`. Since the file does not contain the column names, you must add them yourself using the column names declared in `cols` using the `names` argument. Additionally, a tst file is space separated, make sure you pass ` sep=' '` to the function."
   ]
  },
  {
   "cell_type": "code",
   "execution_count": 7,
   "metadata": {},
   "outputs": [],
   "source": [
    "# Run this code:\n",
    "\n",
    "cols = ['time', 'rad_flow', 'fpv_close', 'fpv_open', 'high', 'bypass', 'bpv_close', 'bpv_open', 'class']\n",
    "tst_url = 'https://archive.ics.uci.edu/ml/machine-learning-databases/statlog/shuttle/shuttle.tst'"
   ]
  },
  {
   "cell_type": "code",
   "execution_count": 8,
   "metadata": {},
   "outputs": [],
   "source": [
    "# Your code here:\n",
    "\n"
   ]
  },
  {
   "cell_type": "markdown",
   "metadata": {},
   "source": [
    "Let's verify that this worked by looking at the `head()` function."
   ]
  },
  {
   "cell_type": "code",
   "execution_count": 9,
   "metadata": {},
   "outputs": [],
   "source": [
    "# Your code here:\n",
    "\n"
   ]
  },
  {
   "cell_type": "markdown",
   "metadata": {},
   "source": [
    "To make life easier for us, let's turn this dataframe into a comma separated file by saving it using the `to_csv()` function. Save `shuttle` into the file `shuttle.csv` and ensure the file is comma separated and that we are not saving the index column."
   ]
  },
  {
   "cell_type": "code",
   "execution_count": 10,
   "metadata": {},
   "outputs": [],
   "source": [
    "# Your code here:\n",
    "\n"
   ]
  },
  {
   "cell_type": "markdown",
   "metadata": {},
   "source": [
    "# Challenge 3 - Working with Excel Files\n",
    "\n",
    "We can also use pandas to convert excel spreadsheets to dataframes. Let's use the `read_excel()` function. In this case, `astronauts.xls` is in the same folder that contains this notebook. Read this file into a variable called `astronaut`. \n",
    "\n",
    "Note: Make sure to install the `xlrd` library if it is not yet installed."
   ]
  },
  {
   "cell_type": "code",
   "execution_count": 11,
   "metadata": {},
   "outputs": [],
   "source": [
    "# Your code here:\n",
    "\n"
   ]
  },
  {
   "cell_type": "markdown",
   "metadata": {},
   "source": [
    "Use the `head()` function to inspect the dataframe."
   ]
  },
  {
   "cell_type": "code",
   "execution_count": 12,
   "metadata": {},
   "outputs": [],
   "source": [
    "# Your code here:\n",
    "\n"
   ]
  },
  {
   "cell_type": "markdown",
   "metadata": {},
   "source": [
    "Use the `value_counts()` function to find the most popular undergraduate major among all astronauts."
   ]
  },
  {
   "cell_type": "code",
   "execution_count": 13,
   "metadata": {},
   "outputs": [],
   "source": [
    "# Your code here:\n",
    "\n"
   ]
  },
  {
   "cell_type": "markdown",
   "metadata": {},
   "source": [
    "Due to all the commas present in the cells of this file, let's save it as a tab separated csv file. In the cell below, save `astronaut` as a tab separated file using the `to_csv` function. Call the file `astronaut.csv` and remember to remove the index column."
   ]
  },
  {
   "cell_type": "code",
   "execution_count": 14,
   "metadata": {},
   "outputs": [],
   "source": [
    "# Your code here:\n",
    "\n"
   ]
  },
  {
   "cell_type": "markdown",
   "metadata": {},
   "source": [
    "# Bonus Challenge - Fertility Dataset\n",
    "\n",
    "Visit the following [URL](https://archive.ics.uci.edu/ml/datasets/Fertility) and retrieve the dataset as well as the column headers. Determine the correct separator and read the file into a variable called `fertility`. Examine the dataframe using the `head()` function."
   ]
  },
  {
   "cell_type": "code",
   "execution_count": 15,
   "metadata": {},
   "outputs": [],
   "source": [
    "# Your code here:\n",
    "\n"
   ]
  },
  {
   "cell_type": "code",
   "execution_count": null,
   "metadata": {},
   "outputs": [],
   "source": []
  }
 ],
 "metadata": {
  "kernelspec": {
   "display_name": "Python 3",
   "language": "python",
   "name": "python3"
  },
  "language_info": {
   "codemirror_mode": {
    "name": "ipython",
    "version": 3
   },
   "file_extension": ".py",
   "mimetype": "text/x-python",
   "name": "python",
   "nbconvert_exporter": "python",
   "pygments_lexer": "ipython3",
   "version": "3.8.2-final"
  }
 },
 "nbformat": 4,
 "nbformat_minor": 2
}